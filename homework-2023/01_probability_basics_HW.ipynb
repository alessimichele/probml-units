{
 "cells": [
  {
   "attachments": {},
   "cell_type": "markdown",
   "id": "528ea288-173a-4fc0-81c1-1a6fe04f2bac",
   "metadata": {},
   "source": [
    "# Homework 1: **Probability** basics\n",
    "\n",
    "Probabilistic Machine Learning -- Spring 2023, UniTS\n",
    "\n",
    "<a target=\"_blank\" href=\"https://colab.research.google.com/github/emaballarin/probml-units/blob/main/homework-2023/01_probability_basics_HW.ipynb\"><img src=\"https://colab.research.google.com/assets/colab-badge.svg\" alt=\"Open in Colab\"/></a>"
   ]
  },
  {
   "cell_type": "markdown",
   "id": "027856b4-c819-464d-967f-b4d424499ede",
   "metadata": {},
   "source": [
    "### Exercise 1\n",
    "\n",
    "Let $Y$ be a random variable taking values in $\\{1,\\dots,N\\}$ and suppose that any value is equally likely, i.e. that $P(Y=j)=\\frac{1}{N}$. \n",
    "\n",
    "Knowing that $\\sum_{j=1}^N j = \\frac{N(N+1)}{2}$, show that $\\mathbb{E}(Y)=\\frac{N+1}{2}$."
   ]
  },
  {
   "cell_type": "markdown",
   "id": "376c9854-22d3-4000-b681-c7cba107b8e5",
   "metadata": {},
   "source": [
    "### Exercise 2\n",
    "\n",
    "The time in takes (in *arbitrary units*) to travel back home from the university is modeled by the density function \n",
    "\n",
    "$$\n",
    "f(x)=\\begin{cases}1-x/2& 0<x<2\\\\0 &\\text{otherwise}\\end{cases}\n",
    "$$\n",
    "\n",
    "The cost for a trip of $x$ *arbitrary units* is ($y=8+12x$) €. Compute the expected cost to travel back home from the university."
   ]
  },
  {
   "cell_type": "markdown",
   "id": "6579591c-c88e-43db-ba26-44dc2629172d",
   "metadata": {},
   "source": [
    "### Exercise 3\n",
    "\n",
    "Suppose that the joint *PDF* of $X$ and $Y$ is\n",
    "\n",
    "$$\n",
    "f(x,y)= \n",
    "\\begin{cases}\n",
    "\\frac{15}{4}x^2 & \\text{for } 0\\leq y \\leq 1-x^2 \\text{ and } -1\\leq x\\leq 1 \\\\\n",
    "0 & \\text{otherwise}\n",
    "\\end{cases}\n",
    "$$\n",
    "\n",
    "Determine the marginal *PDF*s of $X$ and $Y$."
   ]
  },
  {
   "cell_type": "markdown",
   "id": "5de8180a-a5a7-4634-a56b-8dafaba588f0",
   "metadata": {},
   "source": [
    "### Exercise 4\n",
    "\n",
    "Let $X$ and $Y$ be continuous random variables with joint *PDF* \n",
    "\n",
    "$$\n",
    "f(x,y) = \n",
    "\\begin{cases}\n",
    "6 \\; e^{-(2x+3y)} &\\text{for } x,y\\geq 0\\\\\n",
    "0 &\\text{otherwise}\n",
    "\\end{cases}\n",
    "$$\n",
    "\n",
    "1. Are $X$ and $Y$ independent?\n",
    "2. Find $\\mathbb{E}[Y\\;|\\;X>2]$.\n",
    "3. Find $P(X>Y)$."
   ]
  },
  {
   "cell_type": "markdown",
   "id": "bab2119e-f0d7-438d-8f1d-1fb67ed09913",
   "metadata": {},
   "source": [
    "## Exercise 5\n",
    "\n",
    "You buy a laptop whose lifetime $T$ is the number of *years* it works properly before breaking down. You know that $P(T\\geq t)=e^{-t/5}$ fot all $t\\geq0$, corresponding to the probability that it lasts at least $t$ years.\n",
    "\n",
    "If the laptop still works properly after two years, what is the probability that it breaks within the third year?"
   ]
  }
 ],
 "metadata": {
  "kernelspec": {
   "display_name": "Python 3 (ipykernel)",
   "language": "python",
   "name": "python3"
  },
  "language_info": {
   "codemirror_mode": {
    "name": "ipython",
    "version": 3
   },
   "file_extension": ".py",
   "mimetype": "text/x-python",
   "name": "python",
   "nbconvert_exporter": "python",
   "pygments_lexer": "ipython3",
   "version": "3.10.9"
  }
 },
 "nbformat": 4,
 "nbformat_minor": 5
}
